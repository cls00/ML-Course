{
 "cells": [
  {
   "cell_type": "markdown",
   "metadata": {
    "slideshow": {
     "slide_type": "slide"
    }
   },
   "source": [
    "<h1 style=\"text-align: center;font-size:50px;\">Decision Trees</h1>\n",
    "<center><img src='./Arch_decision_tree.png'></center>\n"
   ]
  },
  {
   "cell_type": "markdown",
   "metadata": {
    "slideshow": {
     "slide_type": "slide"
    }
   },
   "source": [
    "## Why Decision Trees?\n"
   ]
  },
  {
   "cell_type": "markdown",
   "metadata": {
    "slideshow": {
     "slide_type": "fragment"
    }
   },
   "source": [
    "* Computationally efficient\n"
   ]
  },
  {
   "cell_type": "markdown",
   "metadata": {
    "slideshow": {
     "slide_type": "fragment"
    }
   },
   "source": [
    "* Fast\n"
   ]
  },
  {
   "cell_type": "markdown",
   "metadata": {
    "slideshow": {
     "slide_type": "fragment"
    }
   },
   "source": [
    "* Interpretable"
   ]
  },
  {
   "cell_type": "markdown",
   "metadata": {
    "slideshow": {
     "slide_type": "slide"
    }
   },
   "source": [
    "\n",
    "<center><img src='DecisionBase.png'></center>"
   ]
  },
  {
   "cell_type": "markdown",
   "metadata": {
    "slideshow": {
     "slide_type": "subslide"
    }
   },
   "source": [
    "<center><img src='Decision1.png'></center>"
   ]
  },
  {
   "cell_type": "markdown",
   "metadata": {
    "slideshow": {
     "slide_type": "subslide"
    }
   },
   "source": [
    "<center><img src='Decision2.png'></center>"
   ]
  },
  {
   "cell_type": "markdown",
   "metadata": {
    "slideshow": {
     "slide_type": "subslide"
    }
   },
   "source": [
    "<center><img src='Decision3.png'></center>"
   ]
  },
  {
   "cell_type": "markdown",
   "metadata": {},
   "source": [
    "<center><img src='DecisionF.png'></center>"
   ]
  },
  {
   "cell_type": "markdown",
   "metadata": {
    "slideshow": {
     "slide_type": "subslide"
    }
   },
   "source": [
    "<center><img src='ManyDecisions.png'></center>"
   ]
  },
  {
   "cell_type": "markdown",
   "metadata": {
    "slideshow": {
     "slide_type": "slide"
    }
   },
   "source": [
    "## Pseudocode\n",
    "\n",
    "Class Node: \\\n",
    "&emsp; &emsp;     Feature \\\n",
    "&emsp; &emsp;     Threshold \\\n",
    "&emsp; &emsp;     left \\\n",
    "&emsp; &emsp;     right \\\n",
    "&emsp; &emsp;     value \n",
    "\n",
    "<img src='Decision1.png' width=\"400\" height=\"400\">"
   ]
  },
  {
   "cell_type": "markdown",
   "metadata": {
    "slideshow": {
     "slide_type": "slide"
    }
   },
   "source": [
    "## Pseudocode\n",
    "\n",
    "Class DecisionTree: \\\n",
    "&emsp; &emsp;     root \\\n",
    "&emsp; &emsp;     max_depth "
   ]
  },
  {
   "cell_type": "markdown",
   "metadata": {
    "slideshow": {
     "slide_type": "slide"
    }
   },
   "source": [
    "### Pseudocode: Growing a decision tree\n",
    "<img src=\"ManyDecisions.png\" width=\"400\" style=\"float:right;vertical-align: top;\" />\n",
    "\n",
    "<p style=\"margin-left: 0px;\">\n",
    "def grow_tree(samples, labels, depth=0)  <br>\n",
    "&emsp;    if stopping_conditions == true: # This doesn't stop the whole process<br>\n",
    "&emsp; &emsp;      return Node(label) # create terminal or leaf node<br>\n",
    "-<br>  \n",
    "&emsp;   best_feature, best_threshold = best_split(samples,labels) <br>\n",
    "&emsp;   left_samples, right_samples = split_samples(best_features, best_threshold) <br>\n",
    "&emsp;   left_child = grow_tree(left_samples)<br>\n",
    "&emsp;   right_child = grow_tree(right_samples)<br>\n",
    "&emsp;   return Node(best_feat, best_thresh, left, right)  <br> \n",
    "</p>"
   ]
  },
  {
   "cell_type": "markdown",
   "metadata": {
    "slideshow": {
     "slide_type": "slide"
    }
   },
   "source": [
    "### Pseudocode: Growing a decision tree\n",
    "<img src=\"grow1.png\" width=\"500\" style=\"float:right;vertical-align: top;\" />\n",
    "\n",
    "<p style=\"margin-left: 0px;\">\n",
    "def grow_tree(samples, labels, depth=0)  <br>\n",
    "&emsp;    if stopping_conditions == true: <br>\n",
    "&emsp; &emsp;      return Node(label) <br>\n",
    "    \n",
    "&emsp;   best_feature, best_threshold = best_split(samples,labels)- <br>\n",
    "&emsp;   left_samples, right_samples = split_samples(best_features, best_threshold) <br>\n",
    "&emsp;   left_child = grow_tree(left_samples)<br>\n",
    "&emsp;   right_child = grow_tree(right_samples)<br>\n",
    "&emsp;   return Node(best_feat, best_thresh, left, right)  <br> \n",
    "</p>"
   ]
  },
  {
   "cell_type": "markdown",
   "metadata": {
    "slideshow": {
     "slide_type": "slide"
    }
   },
   "source": [
    "### Pseudocode: Growing a decision tree\n",
    "<img src=\"grow2.png\" width=\"500\" style=\"float:right;vertical-align: top;\" />\n",
    "\n",
    "<p style=\"margin-left: 0px;\">\n",
    "def grow_tree(samples, labels, depth=0)  <br>\n",
    "&emsp;    if stopping_conditions == true: <br>\n",
    "&emsp; &emsp;      return Node(label) <br>\n",
    "    \n",
    "&emsp;   best_feature, best_threshold = best_split(samples,labels) <br>\n",
    "&emsp;   left_samples, right_samples = split_samples(best_features, best_threshold)- <br>\n",
    "&emsp;   left_child = grow_tree(left_samples)<br>\n",
    "&emsp;   right_child = grow_tree(right_samples)<br>\n",
    "&emsp;   return Node(best_feat, best_thresh, left, right)  <br> \n",
    "</p>"
   ]
  },
  {
   "cell_type": "markdown",
   "metadata": {
    "slideshow": {
     "slide_type": "slide"
    }
   },
   "source": [
    "$$ Entropy(S) = \\sum_{i=1}^{N} - p_{i}log_{2}p_{i}$$"
   ]
  },
  {
   "cell_type": "markdown",
   "metadata": {
    "slideshow": {
     "slide_type": "fragment"
    }
   },
   "source": [
    "Where $S$ is a set of samples, $p_{i}$ is the probability of sampling the ith label when randomly selecting one item from the set, and $N$ is the number of classes."
   ]
  },
  {
   "cell_type": "markdown",
   "metadata": {
    "slideshow": {
     "slide_type": "subslide"
    }
   },
   "source": [
    "<p style=\"text-align: center;\">InformationGain = Entropy(parent) - WeightedAverage of Entropy(children)</p>\n",
    "\n",
    "\n",
    "$$ InformationGain(P,C) = Entropy(P) – \\sum_{i=1}^{NC} w_{i} *Entropy(C_{i})$$"
   ]
  },
  {
   "cell_type": "markdown",
   "metadata": {
    "slideshow": {
     "slide_type": "fragment"
    }
   },
   "source": [
    "Where $P$ is the subset of samples under the parent node, $NC$ is the number of children, $w_{i}$ the weight associated with the ith child, and $C_{i}$ is the subset of samples under the ith child"
   ]
  },
  {
   "cell_type": "markdown",
   "metadata": {
    "slideshow": {
     "slide_type": "slide"
    }
   },
   "source": [
    "<h1 style=\"text-align: center;font-size:40px;\"> The goal is to minimise Entropy</h1>\n"
   ]
  },
  {
   "cell_type": "markdown",
   "metadata": {
    "slideshow": {
     "slide_type": "fragment"
    }
   },
   "source": [
    "<h1 style=\"text-align: center;font-size:40px;\"> The lower the Entropy the greater the certainty</h1>\n"
   ]
  },
  {
   "cell_type": "markdown",
   "metadata": {
    "slideshow": {
     "slide_type": "slide"
    }
   },
   "source": [
    "### Pseudocode: Growing a decision tree\n",
    "<img src=\"grow3.png\" width=\"500\" style=\"float:right;vertical-align: top;\" />\n",
    "\n",
    "<p style=\"margin-left: 0px;\">\n",
    "def grow_tree(samples, labels, depth=0)  <br>\n",
    "&emsp;    if stopping_conditions == true: <br>\n",
    "&emsp; &emsp;       value = most_common(labels) <br>\n",
    "&emsp; &emsp;      return Node(value) <br>\n",
    "    \n",
    "&emsp;   best_feature, best_threshold = best_split(samples,labels) <br>\n",
    "&emsp;   left_samples, right_samples = split_samples(best_features, best_threshold) <br>\n",
    "&emsp;   left_child = grow_tree(left_samples)*<br>\n",
    "&emsp;   right_child = grow_tree(right_samples)<br>\n",
    "&emsp;   return Node(best_feat, best_thresh, left, right)  <br> \n",
    "</p>"
   ]
  },
  {
   "cell_type": "markdown",
   "metadata": {
    "slideshow": {
     "slide_type": "slide"
    }
   },
   "source": [
    "### Pseudocode: Growing a decision tree\n",
    "<img src=\"grow4.png\" width=\"500\" style=\"float:right;vertical-align: top;\" />\n",
    "\n",
    "<p style=\"margin-left: 0px;\">\n",
    "def grow_tree(samples, labels, depth=0)  <br>\n",
    "&emsp;    if stopping_conditions == true: <br>\n",
    "&emsp; &emsp;       value = most_common(labels) <br>\n",
    "&emsp; &emsp;      return Node(value) <br>\n",
    "    \n",
    "&emsp;   best_feature, best_threshold = best_split(samples,labels) <br>\n",
    "&emsp;   left_samples, right_samples = split_samples(best_features, best_threshold) <br>\n",
    "&emsp;   left_child = grow_tree(left_samples)<br>\n",
    "&emsp;   right_child = grow_tree(right_samples)<br>\n",
    "&emsp;   return Node(best_feat, best_thresh, left, right)  <br> \n",
    "</p>"
   ]
  },
  {
   "cell_type": "markdown",
   "metadata": {
    "slideshow": {
     "slide_type": "slide"
    }
   },
   "source": [
    "### Pseudocode: Growing a decision tree\n",
    "<img src=\"grow5.png\" width=\"500\" style=\"float:right;vertical-align: top;\" />\n",
    "\n",
    "<p style=\"margin-left: 0px;\">\n",
    "def grow_tree(samples, labels, depth=0)  <br>\n",
    "&emsp;    if stopping_conditions == true: <br>\n",
    "&emsp; &emsp;       value = most_common(labels) <br>\n",
    "&emsp; &emsp;      return Node(value) <br>\n",
    "    \n",
    "&emsp;   best_feature, best_threshold = best_split(samples,labels) <br>\n",
    "&emsp;   left_samples, right_samples = split_samples(best_features, best_threshold) <br>\n",
    "&emsp;   left_child = grow_tree(left_samples)<br>\n",
    "&emsp;   right_child = grow_tree(right_samples)<br>\n",
    "&emsp;   return Node(best_feat, best_thresh, left, right)  <br> \n",
    "</p>"
   ]
  },
  {
   "cell_type": "markdown",
   "metadata": {
    "slideshow": {
     "slide_type": "slide"
    }
   },
   "source": [
    "## Pseudocode\n",
    "\n",
    "def traverse(instance, node): \\\n",
    "&ensp; if node has value \\\n",
    "&emsp; &emsp;        return value    \n",
    "        \n",
    "&ensp;    if instance[node.feature] <= node.threshold \\\n",
    "&emsp; &emsp;       traverse(instance, node.left) \\\n",
    "&ensp;     else \\\n",
    "&emsp;  &emsp;       traverse(instance, node.right)\n",
    "\n",
    "    "
   ]
  },
  {
   "cell_type": "markdown",
   "metadata": {
    "slideshow": {
     "slide_type": "slide"
    }
   },
   "source": [
    "<h1 style=\"text-align: center;font-size:50px;\">Implementation</h1>\n"
   ]
  },
  {
   "cell_type": "code",
   "execution_count": 3,
   "metadata": {
    "slideshow": {
     "slide_type": "skip"
    }
   },
   "outputs": [],
   "source": [
    "import numpy as np\n",
    "from collections import Counter\n",
    "\n",
    "def entropy(y):\n",
    "    counts = np.bincount(y)\n",
    "    percentages  = counts / len(y)\n",
    "    entropy = 0\n",
    "\n",
    "    for p in percentages:\n",
    "      if p > 0:\n",
    "        entropy += p*np.log2(p)\n",
    "    return -entropy\n",
    "\n",
    "class Node:\n",
    "    '''\n",
    "    Helper class holding node information.\n",
    "\n",
    "    Arguments: \n",
    "    feature -- which column the threshold will refer to\n",
    "    threshold -- the splitting parameter \n",
    "    left -- left child node\n",
    "    right -- right child node\n",
    "    value -- label of the node, exist only if it is leaf node.\n",
    "    '''\n",
    "    def __init__(self, feature=None, threshold=None, left=None, right=None, value=None):\n",
    "        self.feature = feature\n",
    "        self.threshold = threshold\n",
    "        self.left = left\n",
    "        self.right = right\n",
    "        self.value = value\n",
    "\n",
    "class DecisionTree:\n",
    "\n",
    "    def __init__(self, min_samples_split=2, max_depth=100, n_feats=None):\n",
    "        self.min_samples_split = min_samples_split\n",
    "        self.max_depth = max_depth\n",
    "        self.n_feats = n_feats\n",
    "        self.root = None\n",
    "\n",
    "    def fit(self, X, y):\n",
    "        # if not specified the tree will use all the features\n",
    "        if self.n_feats != None:\n",
    "          self.n_feats = min(self.n_feats, X.shape[1])\n",
    "        else:\n",
    "          self.n_feats = X.shape[1]\n",
    "\n",
    "        self.root = self._grow_tree(X, y)\n",
    "\n",
    "    def predict(self, X):\n",
    "        return np.array([self._traverse_tree(x, self.root) for x in X])\n",
    "\n",
    "    def _grow_tree(self, X, y, depth=0):\n",
    "        n_samples, n_features = X.shape\n",
    "        n_labels = len(np.unique(y))\n",
    "\n",
    "        # stopping criteria\n",
    "        if depth >= self.max_depth or n_labels == 1 or n_samples < self.min_samples_split:\n",
    "            leaf_value = Counter(y).most_common(1)[0][0]\n",
    "            return Node(value=leaf_value)\n",
    "\n",
    "        # pick a random subset of the features if n_feats is smaller than n_features (used by Random Forests)\n",
    "        feat_idxs = np.random.choice(n_features, self.n_feats, replace=False)\n",
    "\n",
    "        # greedily select the best split according to information gain\n",
    "        best_feat, best_thresh = self._best_split(X, y, feat_idxs)\n",
    "        \n",
    "        # grow the children that result from the split\n",
    "        left_idxs, right_idxs = self._split(X[:, best_feat], best_thresh)\n",
    "        left = self._grow_tree(X[left_idxs, :], y[left_idxs], depth+1)\n",
    "        right = self._grow_tree(X[right_idxs, :], y[right_idxs], depth+1)\n",
    "        return Node(best_feat, best_thresh, left, right)\n",
    "\n",
    "    def _best_split(self, X, y, feat_idxs):\n",
    "        best_gain = -1\n",
    "        split_idx, split_threshold = None, None\n",
    "        for feat_idx in feat_idxs:\n",
    "            X_column = X[:, feat_idx]\n",
    "            candidate_thresholds = np.unique(X_column)\n",
    "            for threshold in candidate_thresholds:\n",
    "                gain = self._information_gain(y, X_column, threshold)\n",
    "\n",
    "                if gain > best_gain:\n",
    "                    best_gain = gain\n",
    "                    split_idx = feat_idx\n",
    "                    split_threshold = threshold\n",
    "\n",
    "        return split_idx, split_threshold\n",
    "\n",
    "    def _information_gain(self, y, X_column, split_threshold):\n",
    "\n",
    "        parent_entropy = entropy(y)\n",
    "\n",
    "        # generate split\n",
    "        left_idxs, right_idxs = self._split(X_column, split_threshold)\n",
    "\n",
    "        # if all elements fall in one side or the other the split has no effect\n",
    "        if len(left_idxs) == 0 or len(right_idxs) == 0:\n",
    "          return 0\n",
    "\n",
    "        # compute the weighted average of the entropy for the children\n",
    "        n = len(y)\n",
    "        left_child_entropy = entropy(y[left_idxs])\n",
    "        right_child_entropy = entropy(y[right_idxs])\n",
    "        left_weight = len(left_idxs) / n\n",
    "        right_weight = len(right_idxs) / n\n",
    "        children_entropy =  left_weight * left_child_entropy + right_weight * right_child_entropy\n",
    "\n",
    "        # information gain as the difference in entropy before and after split\n",
    "        information_gain = parent_entropy - children_entropy\n",
    "        return information_gain\n",
    "\n",
    "    def _split(self, X_column, split_threshold):\n",
    "        # returns 2 arrays, one with all the indices of the values smaller or equal than the threshold and one with all the indices that are greater \n",
    "        left_idxs = np.argwhere(X_column <= split_threshold).flatten()\n",
    "        right_idxs = np.argwhere(X_column > split_threshold).flatten()\n",
    "        return left_idxs, right_idxs\n",
    "\n",
    "    def _traverse_tree(self, x, node):\n",
    "        '''\n",
    "        Recursively traverse the tree.\n",
    "\n",
    "        Arguments:\n",
    "        x is the input vector that needs to be classified.\n",
    "        node is the current node.\n",
    "        '''\n",
    "        # if it is a leaf node returns its value\n",
    "        if node.value is not None:\n",
    "            return node.value\n",
    "\n",
    "        if x[node.feature] <= node.threshold:\n",
    "            return self._traverse_tree(x, node.left)\n",
    "        return self._traverse_tree(x, node.right)\n",
    "\n"
   ]
  },
  {
   "cell_type": "code",
   "execution_count": 4,
   "metadata": {
    "slideshow": {
     "slide_type": "skip"
    }
   },
   "outputs": [
    {
     "name": "stdout",
     "output_type": "stream",
     "text": [
      "              precision    recall  f1-score   support\n",
      "\n",
      "           0       1.00      1.00      1.00        23\n",
      "           1       0.95      1.00      0.97        19\n",
      "           2       1.00      0.94      0.97        18\n",
      "\n",
      "    accuracy                           0.98        60\n",
      "   macro avg       0.98      0.98      0.98        60\n",
      "weighted avg       0.98      0.98      0.98        60\n",
      "\n"
     ]
    }
   ],
   "source": [
    "from sklearn.datasets import load_iris\n",
    "from sklearn.model_selection import train_test_split\n",
    "from sklearn.metrics import classification_report\n",
    "\n",
    "data = load_iris()\n",
    "X = data.data\n",
    "y = data.target\n",
    "\n",
    "X_train, X_test, y_train, y_test = train_test_split(X, y, test_size=0.4, random_state=42)\n",
    "\n",
    "tree = DecisionTree(max_depth=12)\n",
    "tree.fit(X_train, y_train)\n",
    "\n",
    "y_pred = tree.predict(X_test)\n",
    "print(classification_report(y_test, y_pred))\n"
   ]
  },
  {
   "cell_type": "markdown",
   "metadata": {
    "slideshow": {
     "slide_type": "slide"
    }
   },
   "source": [
    "<h1 style=\"text-align: center;font-size:40px;\">Conclusions</h1>\n"
   ]
  },
  {
   "cell_type": "markdown",
   "metadata": {},
   "source": [
    "- The decision tree recursively creates rules using inequalities and splitting samples via entropy measures \n",
    "- Here we look at one formula for plitting samples but there are more, such as the Gini Index\n",
    "- Beware of magic numbers\n"
   ]
  },
  {
   "cell_type": "markdown",
   "metadata": {},
   "source": [
    "Useful links:\n",
    "   - [Decision Trees](https://en.wikipedia.org/wiki/Decision_tree) on Wikipedia\n",
    "   - Sklearn implementation of [decision trees](https://scikit-learn.org/stable/modules/generated/sklearn.tree.DecisionTreeClassifier.html)\n",
    "   - Alternative explanation of [decision tree with addictional splitting formulas](https://towardsdatascience.com/decision-trees-explained-entropy-information-gain-gini-index-ccp-pruning-4d78070db36c)\n",
    "   "
   ]
  },
  {
   "cell_type": "code",
   "execution_count": null,
   "metadata": {},
   "outputs": [],
   "source": []
  }
 ],
 "metadata": {
  "celltoolbar": "Slideshow",
  "kernelspec": {
   "display_name": "Python 3 (ipykernel)",
   "language": "python",
   "name": "python3"
  },
  "language_info": {
   "codemirror_mode": {
    "name": "ipython",
    "version": 3
   },
   "file_extension": ".py",
   "mimetype": "text/x-python",
   "name": "python",
   "nbconvert_exporter": "python",
   "pygments_lexer": "ipython3",
   "version": "3.11.5"
  },
  "rise": {
   "enable_chalkboard": true
  }
 },
 "nbformat": 4,
 "nbformat_minor": 2
}
